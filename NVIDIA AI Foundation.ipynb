{
 "cells": [
  {
   "cell_type": "markdown",
   "id": "4f77aaa3-9339-4150-83b6-c3f50563e4b4",
   "metadata": {},
   "source": [
    "## NVIDIA AI Foundation Models"
   ]
  },
  {
   "cell_type": "markdown",
   "id": "95a5aa12-0b80-40bb-91eb-e23e46ae8372",
   "metadata": {},
   "source": [
    "[NVIDIA AI Foundation Endpoints](https://www.nvidia.com/en-us/ai-data-science/foundation-models/) let you try leading foundation models like\n",
    "Mixtral, Llama 2, Stable Diffusion, etc. through API endpoints hosted by NVIDIA. These models have been optimized for inference and are built off responsibly sourced \n",
    "datasets suitable for enterprise applications.\n",
    "\n",
    "(NVIDIA AI Foundation Models is the starting point for NVIDIA's AI Foundry, running on DGX Cloud. You can start with a foundation model like Mixtral, getting quick results by making simple API calls to the model. Then you can tune and customize the foundation model to your domain using NVIDIA NeMo, and finally deploy on NVIDIA AI Enterprise.)\n",
    "\n",
    "In order to use NVIDIA AI Foundation Endpoints, you must create a free account with NVIDIA NGC and then generate an API Key.\n",
    "After generating an API key, users of NVIDIA AI Foundation Endpoints get up to 30 days and 10,000 free API calls."
   ]
  },
  {
   "cell_type": "markdown",
   "id": "4fc13b72-e210-43ed-8763-6fa338e9712d",
   "metadata": {},
   "source": [
    "---"
   ]
  },
  {
   "cell_type": "markdown",
   "id": "b7c92f6f-257c-48ad-a7b4-d448fa831ed1",
   "metadata": {},
   "source": [
    "## NGC\n",
    "1. Visit [NVIDIA NGC](https://ngc.nvidia.com/signin).\n",
    "2. Sign in with your email and password if you already have an existing account, or create a new free account.\n",
    "\n",
    "<div style=\"text-align: center;\">\n",
    "<img src=\"img/ngc_signin.png\" width=\"600\" alt=\"NGC Sign In\">\n",
    "</div>"
   ]
  },
  {
   "cell_type": "markdown",
   "id": "999132fa-72a9-4ce1-8a41-7b34ffcd914d",
   "metadata": {},
   "source": [
    "---"
   ]
  },
  {
   "cell_type": "markdown",
   "id": "be977727-3a34-46c2-8f30-cb99c4b3a632",
   "metadata": {},
   "source": [
    "## AI Foundation Models"
   ]
  },
  {
   "cell_type": "markdown",
   "id": "a7c8f12d-d683-4e2f-a8ea-316292cbfe8d",
   "metadata": {},
   "source": [
    "After signing into NGC, navigate to [https://catalog.ngc.nvidia.com/ai-foundation-models](https://catalog.ngc.nvidia.com/ai-foundation-models). \n",
    "1. Find the `Mixtral 8x7B Instruct` model card and click `Learn More`.\n",
    "\n",
    "<div style=\"text-align: center;\">\n",
    "<img src=\"img/mixtral_learn_more.png\" width=\"600\" alt=\"Mixtral Learn More\">\n",
    "</div>\n",
    "\n",
    "2. Select `API` in the navigation bar, and then click `Generate Key`. If you already have an existing AI Foundation Key you can skip this and advance to step 3.\n",
    "\n",
    "<div style=\"text-align: center;\">\n",
    "<img src=\"img/mixtral_generate_key.png\" width=\"600\" alt=\"Mixtral Generate Key\">\n",
    "</div>\n",
    "\n",
    "3. Enter the generated API key in the cell below, the run the two cells below it to load it into `.env` files for the service containers that will need to use it.\n",
    "\n",
    "The API key will be in the format `nvapi-*`. Note that if you have used NGC previously, other NGC keys you may have previous generated outside of AI Foundation will not be compatible."
   ]
  },
  {
   "cell_type": "code",
   "execution_count": null,
   "id": "eba604b2-d4a4-4347-984a-ee23723a9b42",
   "metadata": {},
   "outputs": [],
   "source": [
    "NVIDIA_API_KEY=\"YOUR_KEY_HERE\" # Keep the double quotes."
   ]
  },
  {
   "cell_type": "code",
   "execution_count": null,
   "id": "df92bde5-80e4-4376-9457-3c8ffa7cc8d9",
   "metadata": {},
   "outputs": [],
   "source": [
    "echo \"NVIDIA_API_KEY=$NVIDIA_API_KEY\" > .env"
   ]
  },
  {
   "cell_type": "code",
   "execution_count": null,
   "id": "5c64d732-2039-4509-b525-5bfb320b4e6b",
   "metadata": {},
   "outputs": [],
   "source": [
    "docker-compose exec web bash -c \"echo NVIDIA_API_KEY=$NVIDIA_API_KEY > .env\""
   ]
  }
 ],
 "metadata": {
  "kernelspec": {
   "display_name": "Bash",
   "language": "bash",
   "name": "bash"
  },
  "language_info": {
   "codemirror_mode": "shell",
   "file_extension": ".sh",
   "mimetype": "text/x-sh",
   "name": "bash"
  }
 },
 "nbformat": 4,
 "nbformat_minor": 5
}
